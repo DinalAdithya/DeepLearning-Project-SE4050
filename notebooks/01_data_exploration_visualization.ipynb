{
  "nbformat": 4,
  "nbformat_minor": 0,
  "metadata": {
    "colab": {
      "provenance": [],
      "gpuType": "T4"
    },
    "kernelspec": {
      "name": "python3",
      "display_name": "Python 3"
    },
    "language_info": {
      "name": "python"
    },
    "accelerator": "GPU"
  },
  "cells": [
    {
      "cell_type": "code",
      "execution_count": 4,
      "metadata": {
        "id": "7Fx6RJn0_Wlt",
        "colab": {
          "base_uri": "https://localhost:8080/"
        },
        "outputId": "45d3fd29-1e50-4066-e326-eb690ff4cba4"
      },
      "outputs": [
        {
          "output_type": "stream",
          "name": "stdout",
          "text": [
            "Mounted at /content/drive\n"
          ]
        }
      ],
      "source": [
        "from google.colab import drive\n",
        "drive.mount('/content/drive', force_remount=True)\n",
        "\n",
        "\n",
        "data_path = \"https://drive.google.com/file/d/1uDb-UOOGITztZswUrg04H-UMu_Kvid5j/view?usp=sharing\"\n"
      ]
    },
    {
      "cell_type": "code",
      "source": [
        "\n",
        "!pip install gdown\n",
        "!gdown --id 1uDb-UOOGITztZswUrg04H-UMu_Kvid5j -O battery_dataset.zip # -O mean save as\n",
        "!unzip battery_dataset.zip -d /content/battery_data # -d flag used to specify where the unziped folder should save\n",
        "!ls /content/battery_data/5. Battery Data Set"
      ],
      "metadata": {
        "id": "l_1lSpAVg_Ib"
      },
      "execution_count": null,
      "outputs": []
    },
    {
      "cell_type": "code",
      "metadata": {
        "id": "da053dae"
      },
      "source": [
        "# extract inner ziped folder\n",
        "\n",
        "import zipfile\n",
        "import os\n",
        "\n",
        "folder_path = '/content/battery_data'  # path where outer zip was extracted\n",
        "\n",
        "for file in os.listdir(folder_path):\n",
        "    if file.endswith('.zip'):\n",
        "        inner_zip_path = os.path.join(folder_path, file)\n",
        "        with zipfile.ZipFile(inner_zip_path, 'r') as zip_ref:\n",
        "            zip_ref.extractall(os.path.join(folder_path, file[:-4]))  # create folder with same name\n"
      ],
      "execution_count": null,
      "outputs": []
    },
    {
      "cell_type": "code",
      "source": [
        "!cp -r /content/battery_data /content/drive/MyDrive/DeepLearningProject/"
      ],
      "metadata": {
        "id": "x3wkTd8oSXGh"
      },
      "execution_count": null,
      "outputs": []
    },
    {
      "cell_type": "code",
      "source": [
        "from scipy.io import loadmat\n",
        "import os\n",
        "\n",
        "sample_file = '/content/drive/MyDrive/DeepLearningProject/unzipped_data/B0005.mat'\n",
        "\n",
        "mat_data = loadmat(sample_file)\n",
        "print(mat_data.keys())\n"
      ],
      "metadata": {
        "id": "TqD9ojTzaqx6",
        "colab": {
          "base_uri": "https://localhost:8080/"
        },
        "outputId": "780936ef-e11c-4f7b-f3dd-2d50f11f31a8"
      },
      "execution_count": 18,
      "outputs": [
        {
          "output_type": "stream",
          "name": "stdout",
          "text": [
            "dict_keys(['__header__', '__version__', '__globals__', 'B0005'])\n"
          ]
        }
      ]
    },
    {
      "cell_type": "code",
      "source": [
        "b0005_data = mat_data['B0005']\n",
        "print(type(b0005_data))\n",
        "print(b0005_data.shape)\n",
        "print(b0005_data.dtype)\n",
        "print(b0005_data[0,0].dtype)"
      ],
      "metadata": {
        "colab": {
          "base_uri": "https://localhost:8080/"
        },
        "id": "fVUdAetKk6We",
        "outputId": "3de1afe3-a7a8-4ced-a1bb-3b13aff01d67"
      },
      "execution_count": 20,
      "outputs": [
        {
          "output_type": "stream",
          "name": "stdout",
          "text": [
            "<class 'numpy.ndarray'>\n",
            "(1, 1)\n",
            "[('cycle', 'O')]\n",
            "[('cycle', 'O')]\n"
          ]
        }
      ]
    },
    {
      "cell_type": "code",
      "source": [
        "cycles = b0005_data[0,0]['cycle'][0]\n",
        "print(\"Number of cycles:\", len(cycles))\n",
        "print(cycles[0].dtype)\n"
      ],
      "metadata": {
        "colab": {
          "base_uri": "https://localhost:8080/"
        },
        "id": "TEha73XTn1Kq",
        "outputId": "5b81dce1-78ed-4864-d03a-6267bb04ece1"
      },
      "execution_count": 21,
      "outputs": [
        {
          "output_type": "stream",
          "name": "stdout",
          "text": [
            "Number of cycles: 616\n",
            "[('type', 'O'), ('ambient_temperature', 'O'), ('time', 'O'), ('data', 'O')]\n"
          ]
        }
      ]
    },
    {
      "cell_type": "code",
      "source": [
        "import pandas as pd\n",
        "\n",
        "# Extract data from cycles\n",
        "cycles = b0005_data[0,0]['cycle'][0]\n",
        "\n",
        "cycle_list = []\n",
        "\n",
        "for i, cycle in enumerate(cycles):\n",
        "    cycle_type = cycle['type'][0]\n",
        "    if cycle_type == 'discharge':\n",
        "        data = cycle['data'][0,0]\n",
        "        capacity = float(data['Capacity'][0,0])\n",
        "        voltage_measured = data['Voltage_measured'][0]\n",
        "        current_load = data['Current_load'][0]\n",
        "        temperature_measured = data['Temperature_measured'][0]\n",
        "        time = data['Time'][0]\n",
        "\n",
        "        cycle_list.append({\n",
        "            'cycle_number': i+1,\n",
        "            'capacity': capacity,\n",
        "            'voltage_measured': voltage_measured.mean(),\n",
        "            'current_load': current_load.mean(),\n",
        "            'temperature_measured': temperature_measured.mean(),\n",
        "            'time': time[-1] if len(time) > 0 else 0\n",
        "        })\n",
        "\n",
        "# Create DataFrame\n",
        "df_b0005 = pd.DataFrame(cycle_list)\n",
        "\n",
        "# Preview\n",
        "print(df_b0005.head())\n",
        "print(df_b0005.shape)\n"
      ],
      "metadata": {
        "colab": {
          "base_uri": "https://localhost:8080/"
        },
        "id": "CTXup5dvn2A-",
        "outputId": "51b1b14f-4894-46c2-d151-ff0323ff56b9"
      },
      "execution_count": 22,
      "outputs": [
        {
          "output_type": "stream",
          "name": "stdout",
          "text": [
            "   cycle_number  capacity  voltage_measured  current_load  \\\n",
            "0             2  1.856487          3.529829     -1.805570   \n",
            "1             4  1.846327          3.537320     -1.804583   \n",
            "2             6  1.835349          3.543737     -1.803575   \n",
            "3             8  1.835263          3.543666     -1.812863   \n",
            "4            10  1.834646          3.542343     -1.812876   \n",
            "\n",
            "   temperature_measured      time  \n",
            "0             32.572328  3690.234  \n",
            "1             32.725235  3672.344  \n",
            "2             32.642862  3651.641  \n",
            "3             32.514876  3631.563  \n",
            "4             32.382349  3629.172  \n",
            "(168, 6)\n"
          ]
        }
      ]
    },
    {
      "cell_type": "code",
      "source": [
        "import matplotlib.pyplot as plt\n",
        "\n",
        "plt.figure(figsize=(8,5))\n",
        "plt.plot(df_b0005['cycle_number'], df_b0005['capacity'], marker='o')\n",
        "plt.title('Battery Capacity Degradation over Cycles (B0005)')\n",
        "plt.xlabel('Cycle Number')\n",
        "plt.ylabel('Capacity (Ah)')\n",
        "plt.grid(True)\n",
        "plt.show()\n"
      ],
      "metadata": {
        "colab": {
          "base_uri": "https://localhost:8080/",
          "height": 487
        },
        "id": "aikF5V7PoyY_",
        "outputId": "9b1673a0-146e-4bb5-d4b5-f3ed57a54023"
      },
      "execution_count": 23,
      "outputs": [
        {
          "output_type": "display_data",
          "data": {
            "text/plain": [
              "<Figure size 800x500 with 1 Axes>"
            ],
            "image/png": "[encoded data removed]"
          },
          "metadata": {}
        }
      ]
    }
  ]
}